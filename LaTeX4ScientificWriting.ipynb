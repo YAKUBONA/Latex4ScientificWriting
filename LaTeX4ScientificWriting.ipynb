{
 "cells": [
  {
   "cell_type": "markdown",
   "metadata": {},
   "source": [
    "# <span style=\"color:green\">Two Days Workshop On LaTeX for Scientific Writing"
   ]
  },
  {
   "cell_type": "markdown",
   "metadata": {},
   "source": [
    "### <span style=\"color:green\">Workshop Description\n",
    "\n",
    "[LaTeX](https://www.latex-project.org/) is a high-quality typesetting system which comprises of technical and scientific features for high-quality document production. It can be used for manuscripts, presentations and dissertations/thesis production that range from small to medium to large size documents. This 2 days workshop is inteded to create hands-on experience, awareness and enrich knowledge for research scholars, faculty and students on LaTeX. The sessions will be fully filled with hands-on presentation giving you enough opportunity to practice and explore more."
   ]
  },
  {
   "cell_type": "markdown",
   "metadata": {},
   "source": [
    "###  <span style=\"color:green\"> Programme Contents\n",
    "\n",
    "* Overview of LaTeX.\n",
    "* Installation of LaTeX Tools. \n",
    "* Producing simple documents.\n",
    "* Text formatting.\n",
    "* Typsetting programming codes.\n",
    "* Typesetting mathematics formulas.\n",
    "* Tables and graphics.\n",
    "* Bibliography and cross-refences text.\n",
    "* Journal paper and thesis report. \n",
    "* Presentation slides.\n",
    "* Collaborating with LaTeX and git.\n",
    "\t\t\t"
   ]
  },
  {
   "cell_type": "markdown",
   "metadata": {},
   "source": [
    "###  <span style=\"color:green\"> Who can attend?"
   ]
  },
  {
   "cell_type": "markdown",
   "metadata": {},
   "source": [
    "The target audiences for this workshop are Faculty members and Students (Master and doctoral students). Bring with you a laptop with Linux, MacOS or Windows installed."
   ]
  },
  {
   "cell_type": "code",
   "execution_count": null,
   "metadata": {
    "collapsed": true
   },
   "outputs": [],
   "source": []
  },
  {
   "cell_type": "code",
   "execution_count": null,
   "metadata": {
    "collapsed": true
   },
   "outputs": [],
   "source": []
  }
 ],
 "metadata": {
  "kernelspec": {
   "display_name": "Python [default]",
   "language": "python",
   "name": "python2"
  },
  "language_info": {
   "codemirror_mode": {
    "name": "ipython",
    "version": 2
   },
   "file_extension": ".py",
   "mimetype": "text/x-python",
   "name": "python",
   "nbconvert_exporter": "python",
   "pygments_lexer": "ipython2",
   "version": "2.7.12"
  }
 },
 "nbformat": 4,
 "nbformat_minor": 1
}
